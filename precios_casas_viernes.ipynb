{
  "nbformat": 4,
  "nbformat_minor": 0,
  "metadata": {
    "colab": {
      "name": "precios_casas.ipynb",
      "version": "0.3.2",
      "provenance": [],
      "collapsed_sections": [],
      "include_colab_link": true
    },
    "kernelspec": {
      "name": "python3",
      "display_name": "Python 3"
    }
  },
  "cells": [
    {
      "cell_type": "markdown",
      "metadata": {
        "id": "view-in-github",
        "colab_type": "text"
      },
      "source": [
        "<a href=\"https://colab.research.google.com/github/rlabuonora/CourseraSearch/blob/master/precios_casas_viernes.ipynb\" target=\"_parent\"><img src=\"https://colab.research.google.com/assets/colab-badge.svg\" alt=\"Open In Colab\"/></a>"
      ]
    },
    {
      "cell_type": "markdown",
      "metadata": {
        "id": "ZmVsIK4KjPN0",
        "colab_type": "text"
      },
      "source": [
        "# Contenido\n",
        "1. [Introducción](#introduction)\n",
        "2. [Análisis Exploratorio](#descriptivo)\n",
        "    1. [Sub paragraph](#subparagraph1)\n",
        "3. [Preprocesamiento](#preprocesamiento)\n",
        "4. [Modelos](#modelos)\n",
        "5. [Validación](#validacion)\n",
        "6. [Conclusiones](#conclusiones)\n",
        "\n"
      ]
    },
    {
      "cell_type": "markdown",
      "metadata": {
        "id": "8a0SV2ffz62O",
        "colab_type": "text"
      },
      "source": [
        "# <a name=\"introduction\">Introducción</a>\n",
        "\n",
        "Los datos incluyen información sobre 1460 casas en Ames, Iowa que fueron compradas. El objetivo es predecir el valor a la que se vendió cada propiedad."
      ]
    },
    {
      "cell_type": "code",
      "metadata": {
        "id": "g4p7HaRgzq-_",
        "colab_type": "code",
        "colab": {}
      },
      "source": [
        "import pandas as pd\n",
        "import numpy as np\n",
        "\n",
        "import matplotlib.pyplot as plt\n",
        "import seaborn as sns\n",
        "%matplotlib inline\n",
        "\n",
        "from sklearn.model_selection import train_test_split\n",
        "from sklearn.linear_model import LinearRegression\n",
        "from sklearn.metrics import mean_squared_error, r2_score\n",
        "\n",
        "import scipy.stats as stats\n",
        "from scipy.stats import skew, skewtest\n",
        "\n",
        "from sklearn.compose import ColumnTransformer\n",
        "from sklearn.pipeline import Pipeline\n",
        "from sklearn.preprocessing import OneHotEncoder, StandardScaler, OrdinalEncoder\n",
        "\n",
        "\n",
        "from google.colab import drive\n"
      ],
      "execution_count": 0,
      "outputs": []
    },
    {
      "cell_type": "code",
      "metadata": {
        "id": "jIAf5nbh04Ja",
        "colab_type": "code",
        "outputId": "aee8c5a7-6047-4c71-e9ea-a4b562910459",
        "colab": {
          "base_uri": "https://localhost:8080/",
          "height": 170
        }
      },
      "source": [
        "# Leer los datos\n",
        "drive.mount('/content/drive', force_remount = True)\n",
        "casas = pd.read_csv(\"/content/drive/My Drive/Tryolabs-ML-Interview/data/train.csv\")\n",
        "\n",
        "# Primeras filas\n",
        "print(casas.head())\n",
        "\n"
      ],
      "execution_count": 19,
      "outputs": [
        {
          "output_type": "stream",
          "text": [
            "Mounted at /content/drive\n",
            "   Id  MSSubClass MSZoning  ...  SaleType  SaleCondition SalePrice\n",
            "0   1          60       RL  ...        WD         Normal    208500\n",
            "1   2          20       RL  ...        WD         Normal    181500\n",
            "2   3          60       RL  ...        WD         Normal    223500\n",
            "3   4          70       RL  ...        WD        Abnorml    140000\n",
            "4   5          60       RL  ...        WD         Normal    250000\n",
            "\n",
            "[5 rows x 81 columns]\n"
          ],
          "name": "stdout"
        }
      ]
    },
    {
      "cell_type": "code",
      "metadata": {
        "id": "8f3LEEWNcFsH",
        "colab_type": "code",
        "outputId": "659ccd9b-4d03-49f1-b4b6-59f5329abe8a",
        "colab": {
          "base_uri": "https://localhost:8080/",
          "height": 34
        }
      },
      "source": [
        "# Filas y columnas\n",
        "print(casas.shape)"
      ],
      "execution_count": 3,
      "outputs": [
        {
          "output_type": "stream",
          "text": [
            "(1460, 81)\n"
          ],
          "name": "stdout"
        }
      ]
    },
    {
      "cell_type": "code",
      "metadata": {
        "id": "jUdsJqlIcHQX",
        "colab_type": "code",
        "outputId": "6d7d2d64-0b34-48e9-9e95-62cdf5be583c",
        "colab": {
          "base_uri": "https://localhost:8080/",
          "height": 1496
        }
      },
      "source": [
        "# Tipos de las columnas\n",
        "print(casas.info())"
      ],
      "execution_count": 4,
      "outputs": [
        {
          "output_type": "stream",
          "text": [
            "<class 'pandas.core.frame.DataFrame'>\n",
            "RangeIndex: 1460 entries, 0 to 1459\n",
            "Data columns (total 81 columns):\n",
            "Id               1460 non-null int64\n",
            "MSSubClass       1460 non-null int64\n",
            "MSZoning         1460 non-null object\n",
            "LotFrontage      1201 non-null float64\n",
            "LotArea          1460 non-null int64\n",
            "Street           1460 non-null object\n",
            "Alley            91 non-null object\n",
            "LotShape         1460 non-null object\n",
            "LandContour      1460 non-null object\n",
            "Utilities        1460 non-null object\n",
            "LotConfig        1460 non-null object\n",
            "LandSlope        1460 non-null object\n",
            "Neighborhood     1460 non-null object\n",
            "Condition1       1460 non-null object\n",
            "Condition2       1460 non-null object\n",
            "BldgType         1460 non-null object\n",
            "HouseStyle       1460 non-null object\n",
            "OverallQual      1460 non-null int64\n",
            "OverallCond      1460 non-null int64\n",
            "YearBuilt        1460 non-null int64\n",
            "YearRemodAdd     1460 non-null int64\n",
            "RoofStyle        1460 non-null object\n",
            "RoofMatl         1460 non-null object\n",
            "Exterior1st      1460 non-null object\n",
            "Exterior2nd      1460 non-null object\n",
            "MasVnrType       1452 non-null object\n",
            "MasVnrArea       1452 non-null float64\n",
            "ExterQual        1460 non-null object\n",
            "ExterCond        1460 non-null object\n",
            "Foundation       1460 non-null object\n",
            "BsmtQual         1423 non-null object\n",
            "BsmtCond         1423 non-null object\n",
            "BsmtExposure     1422 non-null object\n",
            "BsmtFinType1     1423 non-null object\n",
            "BsmtFinSF1       1460 non-null int64\n",
            "BsmtFinType2     1422 non-null object\n",
            "BsmtFinSF2       1460 non-null int64\n",
            "BsmtUnfSF        1460 non-null int64\n",
            "TotalBsmtSF      1460 non-null int64\n",
            "Heating          1460 non-null object\n",
            "HeatingQC        1460 non-null object\n",
            "CentralAir       1460 non-null object\n",
            "Electrical       1459 non-null object\n",
            "1stFlrSF         1460 non-null int64\n",
            "2ndFlrSF         1460 non-null int64\n",
            "LowQualFinSF     1460 non-null int64\n",
            "GrLivArea        1460 non-null int64\n",
            "BsmtFullBath     1460 non-null int64\n",
            "BsmtHalfBath     1460 non-null int64\n",
            "FullBath         1460 non-null int64\n",
            "HalfBath         1460 non-null int64\n",
            "BedroomAbvGr     1460 non-null int64\n",
            "KitchenAbvGr     1460 non-null int64\n",
            "KitchenQual      1460 non-null object\n",
            "TotRmsAbvGrd     1460 non-null int64\n",
            "Functional       1460 non-null object\n",
            "Fireplaces       1460 non-null int64\n",
            "FireplaceQu      770 non-null object\n",
            "GarageType       1379 non-null object\n",
            "GarageYrBlt      1379 non-null float64\n",
            "GarageFinish     1379 non-null object\n",
            "GarageCars       1460 non-null int64\n",
            "GarageArea       1460 non-null int64\n",
            "GarageQual       1379 non-null object\n",
            "GarageCond       1379 non-null object\n",
            "PavedDrive       1460 non-null object\n",
            "WoodDeckSF       1460 non-null int64\n",
            "OpenPorchSF      1460 non-null int64\n",
            "EnclosedPorch    1460 non-null int64\n",
            "3SsnPorch        1460 non-null int64\n",
            "ScreenPorch      1460 non-null int64\n",
            "PoolArea         1460 non-null int64\n",
            "PoolQC           7 non-null object\n",
            "Fence            281 non-null object\n",
            "MiscFeature      54 non-null object\n",
            "MiscVal          1460 non-null int64\n",
            "MoSold           1460 non-null int64\n",
            "YrSold           1460 non-null int64\n",
            "SaleType         1460 non-null object\n",
            "SaleCondition    1460 non-null object\n",
            "SalePrice        1460 non-null int64\n",
            "dtypes: float64(3), int64(35), object(43)\n",
            "memory usage: 924.0+ KB\n",
            "None\n"
          ],
          "name": "stdout"
        }
      ]
    },
    {
      "cell_type": "code",
      "metadata": {
        "id": "3p9BNtPm76zM",
        "colab_type": "code",
        "outputId": "d8932b5e-2b1e-4f1e-d3b6-68f135689d78",
        "colab": {
          "base_uri": "https://localhost:8080/",
          "height": 34
        }
      },
      "source": [
        "# Columnas con datos faltantes\n",
        "print(casas.isnull().any().sum())"
      ],
      "execution_count": 5,
      "outputs": [
        {
          "output_type": "stream",
          "text": [
            "19\n"
          ],
          "name": "stdout"
        }
      ]
    },
    {
      "cell_type": "code",
      "metadata": {
        "id": "FgjjVvqf25Ae",
        "colab_type": "code",
        "outputId": "af7b149c-419d-4f45-bf7f-0f6a8e75b930",
        "colab": {
          "base_uri": "https://localhost:8080/",
          "height": 85
        }
      },
      "source": [
        "# Seleccionar numéricas\n",
        "numericas = casas.select_dtypes(include = [np.number])\n",
        "\n",
        "# Columnas numéricas con faltantes\n",
        "print(casas[numericas.columns[numericas.isnull().any()]].isnull().sum().sort_values(ascending = False))\n",
        "\n"
      ],
      "execution_count": 6,
      "outputs": [
        {
          "output_type": "stream",
          "text": [
            "LotFrontage    259\n",
            "GarageYrBlt     81\n",
            "MasVnrArea       8\n",
            "dtype: int64\n"
          ],
          "name": "stdout"
        }
      ]
    },
    {
      "cell_type": "code",
      "metadata": {
        "id": "PKluEekw7G20",
        "colab_type": "code",
        "outputId": "148f3fad-2e98-4150-8c91-152487b144b5",
        "colab": {
          "base_uri": "https://localhost:8080/",
          "height": 306
        }
      },
      "source": [
        "# Columnas categóricas\n",
        "categoricas = casas.select_dtypes(include=[object])\n",
        "\n",
        "# Columnas categóricas con faltantes\n",
        "print(casas[categoricas.columns[categoricas.isnull().any()]].isnull().sum().sort_values(ascending = False))\n",
        "\n"
      ],
      "execution_count": 7,
      "outputs": [
        {
          "output_type": "stream",
          "text": [
            "PoolQC          1453\n",
            "MiscFeature     1406\n",
            "Alley           1369\n",
            "Fence           1179\n",
            "FireplaceQu      690\n",
            "GarageCond        81\n",
            "GarageQual        81\n",
            "GarageFinish      81\n",
            "GarageType        81\n",
            "BsmtFinType2      38\n",
            "BsmtExposure      38\n",
            "BsmtFinType1      37\n",
            "BsmtCond          37\n",
            "BsmtQual          37\n",
            "MasVnrType         8\n",
            "Electrical         1\n",
            "dtype: int64\n"
          ],
          "name": "stdout"
        }
      ]
    },
    {
      "cell_type": "markdown",
      "metadata": {
        "id": "4dwHIm7S8xvT",
        "colab_type": "text"
      },
      "source": [
        "# <a name=\"descriptivo\">Análisis Exploratorio</a>\n",
        "\n"
      ]
    },
    {
      "cell_type": "markdown",
      "metadata": {
        "id": "rfEvfqRJJzsn",
        "colab_type": "text"
      },
      "source": [
        "## Análisis del diccionario\n",
        "\n",
        "Acá aplicamos un poco de sentido común y vamos columna por columna mejorando la importación. Los pasos que damos acá no entran en el pipeline, por lo que deberíamos estar bastante convencidos de que son las decisiones correctas y seguimos adelante.\n",
        "\n",
        "Principales decisiones: \n",
        "\n",
        "- Drop `MSSubClass` (OK)\n",
        "- `Condition1` y `Condition2`\n",
        "- Fechas: \n",
        "    - Una dummy para el mes de la venta para captar efectos del mercado\n",
        "    - Una variable numerica `antiguedad`.\n",
        "- Consolidar Basement (OK)\n",
        "- Consolidar Garage\n",
        "- Uniformizar escalas ordinales\n",
        "\n"
      ]
    },
    {
      "cell_type": "markdown",
      "metadata": {
        "id": "uI57-yGHORB2",
        "colab_type": "text"
      },
      "source": [
        "### Variables numéricas\n",
        "\n",
        "Hay dos tipos de variables: variables que miden metrajes y variables que miden cantidades (cantidad de cuartos, cantidad de baños, etc.). Las que miden cantidades no son normales, por lo que hay que tener en cuenta esto al escalarlas.\n",
        "\n",
        "#### Continuas\n",
        "\n",
        "- `LotFrontage` tiene 200 missings.\n",
        "- `LotArea`: ¿Concentrada en 0?\n",
        "- ~~`GrLivArea`~~ TODO: analizar en profundidad.\n",
        "- `MasVnrArea` tiene 8 missings: Imputar con método simple\n",
        "\n",
        "-  ~~`BsmtFinSF1`~~ \n",
        "- ~~`BsmtFinSF2`~~ \n",
        "- ~~`BsmtUnfSF`~~  \n",
        "- ~~`TotalBsmtSF`~~ Es la suma de todas las anteriores. Me quedo solo con esta\n",
        "\n",
        "- ~~`1stFlrSF`~~\n",
        "- ~~`2ndFlrSF`~~\n",
        "- ~~`LowQualFinSF`~~ \n",
        "\n",
        "#### Concentradas en 0\n",
        "No son normales\n",
        "- ~~`GarageArea`~~\n",
        "- ~~`WoodDeckSF`~~\n",
        "- ~~`OpenPorchSF`~~\n",
        "- ~~`EnclosedPorch`~~\n",
        "- ~~`3SsnPorch`~~\n",
        "- ~~`ScreenPorch`~~\n",
        "- `PoolArea` Si tiene missing deben ser 0s\n",
        "- `MiscVal`  Tiene Missing"
      ]
    },
    {
      "cell_type": "code",
      "metadata": {
        "id": "OSN7O9WKkYv1",
        "colab_type": "code",
        "colab": {}
      },
      "source": [
        "continuas = [\"LotArea\",      \"GrLivArea\",   \"GarageArea\",\n",
        "             \"WoodDeckSF\",   \"OpenPorchSF\", \"EnclosedPorch\",\n",
        "             \"3SsnPorch\",    \"ScreenPorch\",\n",
        "             \"LowQualFinSF\", # No cambia casi nada\n",
        "             \"1stFlrSF\",     \"2ndFlrSF\"]\n",
        "\n",
        "\n",
        "\n"
      ],
      "execution_count": 0,
      "outputs": []
    },
    {
      "cell_type": "code",
      "metadata": {
        "id": "DU5YTa243rqX",
        "colab_type": "code",
        "colab": {}
      },
      "source": [
        "# TODO: mover esta función a un módulo\n",
        "def grafico_curtosis(x, x_texto, y_texto):\n",
        "  eje = sns.distplot(x, kde=False, fit=stats.norm)\n",
        "  sk = skew(x)\n",
        "  sk_pval = skewtest(x)[0]\n",
        "  eje.text(x_texto, y_texto, f'Curtosis:\\n{sk:.2f} ({sk_pval:.4f})', fontsize = 14)\n"
      ],
      "execution_count": 0,
      "outputs": []
    },
    {
      "cell_type": "code",
      "metadata": {
        "id": "HEck7Trh3O1K",
        "colab_type": "code",
        "colab": {
          "base_uri": "https://localhost:8080/",
          "height": 283
        },
        "outputId": "88d9544b-2d86-44eb-8156-24487d81cec2"
      },
      "source": [
        "x = casas[\"GrLivArea\"]\n",
        "grafico_curtosis(x, 3200, 0.0005)\n"
      ],
      "execution_count": 10,
      "outputs": [
        {
          "output_type": "display_data",
          "data": {
            "image/png": "[encoded data removed]",
            "text/plain": [
              "<Figure size 432x288 with 1 Axes>"
            ]
          },
          "metadata": {
            "tags": []
          }
        }
      ]
    },
    {
      "cell_type": "code",
      "metadata": {
        "id": "tGvOfWciv3-p",
        "colab_type": "code",
        "colab": {
          "base_uri": "https://localhost:8080/",
          "height": 283
        },
        "outputId": "ecffea4a-7002-40fa-e224-3d6b0b127754"
      },
      "source": [
        "log_x = np.log1p(casas[\"GrLivArea\"])\n",
        "plt.clf()\n",
        "grafico_curtosis(log_x, 7.8, 1)\n"
      ],
      "execution_count": 11,
      "outputs": [
        {
          "output_type": "display_data",
          "data": {
            "image/png": "[encoded data removed]",
            "text/plain": [
              "<Figure size 432x288 with 1 Axes>"
            ]
          },
          "metadata": {
            "tags": []
          }
        }
      ]
    },
    {
      "cell_type": "markdown",
      "metadata": {
        "id": "p1S2cO8ckhZ3",
        "colab_type": "text"
      },
      "source": [
        "\n",
        "\n",
        "\n"
      ]
    },
    {
      "cell_type": "markdown",
      "metadata": {
        "id": "qlbYg3g1koEd",
        "colab_type": "text"
      },
      "source": [
        "\n",
        "#### Cuentas\n",
        "\n",
        "- `BsmtFullBath`\n",
        "- `BsmtHalfBath` Estas dos variables rompen el modelo \n",
        "- ~~`FullBath`~~  \n",
        "- ~~`HalfBath`~~   \n",
        "- ~~`BedroomAbvGr`~~\n",
        "- ~~`KitchenAbvGr`~~\n",
        "- ~~`TotRmsAbvGrd`~~\n",
        "- ~~`Fireplaces`~~"
      ]
    },
    {
      "cell_type": "code",
      "metadata": {
        "id": "f5WsGDR7VkIU",
        "colab_type": "code",
        "outputId": "4a624f78-fcd7-4bc7-f4b6-fac074c7e8b3",
        "colab": {
          "base_uri": "https://localhost:8080/",
          "height": 283
        }
      },
      "source": [
        "# Cantidad de baños, cantidad de garages\n",
        "cuentas =   [\"KitchenAbvGr\", \"BedroomAbvGr\", \"Fireplaces\", \n",
        "             \"BsmtFullBath\", \n",
        "             #\"BsmtFullBath\",  \n",
        "             \"TotRmsAbvGrd\", \"FullBath\",     \"HalfBath\"\n",
        "             ]   \n",
        "\n",
        "\n",
        "\n",
        "\n",
        "# Dimensiones del panel\n",
        "i = 2\n",
        "j = 3\n",
        "\n",
        "# Panel de (2, 3)\n",
        "fig, ax = plt.subplots(2, 3)\n",
        "fig.subplots_adjust(hspace=0.6, wspace=0.8)\n",
        "\n",
        "# Ordenar los nombres de las columnas (2, 3) para iterar fácil\n",
        "cols = np.reshape(np.array(cuentas)[:6], (i, j))\n",
        "\n",
        "for i in range(2):\n",
        "    for j in range(3):\n",
        "        col = cols[i, j]\n",
        "        sns.countplot(x=col, data=casas, ax = ax[i, j])\n",
        "        \n",
        "        \n",
        "\n",
        "\n",
        "\n",
        "\n",
        "\n"
      ],
      "execution_count": 21,
      "outputs": [
        {
          "output_type": "display_data",
          "data": {
            "image/png": "[encoded data removed]",
            "text/plain": [
              "<Figure size 432x288 with 6 Axes>"
            ]
          },
          "metadata": {
            "tags": []
          }
        }
      ]
    },
    {
      "cell_type": "markdown",
      "metadata": {
        "id": "3naQqYE7-_iG",
        "colab_type": "text"
      },
      "source": [
        "### Variables categóricas\n",
        "\n",
        "#### No ordinales\n",
        "\n",
        "- `MSSubClass` - Es el tipo de vivienda combinado con el año de construcción. Eliminarla porque está en otras columnas (`BldgType`, `HouseStyle` y `YearBuilt`).\n",
        "- ~~`MSZoning`~~\n",
        "-  ~~`Street`~~\n",
        "- `Alley` Missing.\n",
        "- ~~`LotShape`~~\n",
        "- ~~`LandContour`~~\n",
        "- ~~`Utilities`~~\n",
        "- `LotConfig` Empeora el modelo\n",
        "- `LandSlope` Empeora el modelo\n",
        "- ~~`Neighborhood`~~\n",
        "- ~~`BldgType`~~\n",
        "-  ~~`HouseStyle`~~\n",
        "- ~~`RoofStyle`~~\n",
        "- ~~`RoofMatl`~~\n",
        "- ~`Exterior1st`~\n",
        "- `Exterior2nd` Empeora el modelo \n",
        "- `MasVnrType` - Tiene 8 missings\n",
        "- ~~`Foundation`~~\n",
        "- `BsmtFinType1` Missing cuando no hay basement:  Imputar no basement.\n",
        "- `BsmtFinType2` Missing cuando no hay basemento: Imputar no basement\n",
        "- ~~`Heating`~~\n",
        "- ~~`CentralAir`~~\n",
        "- `Electrical` 1 Missing, imputar la MODA.\n",
        "- `GarageType` Missing cuando no hay garage.\n",
        "- ~~`PavedDrive`~~\n",
        "- `MiscFeature` Missings.\n",
        "- ~`SaleType`~\n",
        "- ~`SaleCondition`~\n",
        "\n",
        "\n",
        "\n",
        "\n",
        "\n"
      ]
    },
    {
      "cell_type": "code",
      "metadata": {
        "id": "KOZiFPURVrry",
        "colab_type": "code",
        "colab": {}
      },
      "source": [
        "categoricas = [\"Street\",       \"LotShape\",     \"LandContour\",  \n",
        "               \"Neighborhood\", \"Exterior1st\",  \"Utilities\",\n",
        "               \"BldgType\",     \"HouseStyle\",   \"RoofStyle\", \n",
        "               \"RoofMatl\",     \"PavedDrive\",   \"SaleCondition\",\n",
        "               \"Foundation\",   \"Heating\",      \"CentralAir\", \n",
        "               \"LotShape\",     \"LandContour\",  \"Utilities\", \n",
        "               \"MSZoning\",     \"SaleType\",    \n",
        "             # \"Exterior2nd\",  \"LandSlope\",    \"LotConfig\",    Empeoran\n",
        "             # \"Alley\",        \"Electrical\",   \"BsmtFinType1\", \"BsmtFinType2\", \"GarageType\" Tiene Nan\n",
        "               \"outlier\"]"
      ],
      "execution_count": 0,
      "outputs": []
    },
    {
      "cell_type": "markdown",
      "metadata": {
        "id": "tF5K-7-d2Ean",
        "colab_type": "text"
      },
      "source": [
        "#### Ordinales\n",
        "\n",
        "- `OverallQual`\n",
        "- `OverallCond`\n",
        "- `ExterQual`: Ex, Fa, Gd, TA\n",
        "- `ExterCond`\n",
        "- `BsmtQual` Missng cuando no tiene Basement: Imputar una cateogria extra\n",
        "- `BsmtCond` Missing cuando no tiene Basement: Imputar una categoria extra\n",
        "- `BsmtExposure` Missing cuando no tiene basement: Imputar una categoria extra.\n",
        "- `HeatingQC`\n",
        "- `KitchenQual`\n",
        "- `Functional`\n",
        "- `FireplaceQu` Missing\n",
        "- `GarageFinish` Missing.  Dudosa si es ordinal o no ordinal\n",
        "- `GarageCond` Missing.\n",
        "- `GarageQual` Missing\n",
        "- `PoolQC` Missing cuando no tiene pool. Chequear.\n",
        "- `Fence` Missing cuando no tiene fence. Chequear.\n",
        "\n",
        "\n",
        "ExterCond: Ex, Fa, Gd, Po, TA\n",
        "\n",
        "\n",
        "\n",
        "BsmtQual Ex, \n",
        "Fa, GdTA     649\n",
        "NaN     37"
      ]
    },
    {
      "cell_type": "code",
      "metadata": {
        "id": "gyibSRlxzCcc",
        "colab_type": "code",
        "outputId": "d74ed45f-cbd5-436e-ab24-d8df1285b31e",
        "colab": {
          "base_uri": "https://localhost:8080/",
          "height": 527
        }
      },
      "source": [
        "ordinales = [\"OverallQual\",  \"OverallCond\", \"ExterQual\",\n",
        "             \"ExterCond\",    \"BsmtQual\",    \"BsmtCond\",\n",
        "             \"BsmtExposure\", \"HeatingQC\",   \"KitchenQual\",\n",
        "             \"Functional\",   \"FireplaceQu\", \"PoolQC\",\n",
        "             \"GarageFinish\", \"GarageCond\",   \n",
        "             \"Fence\"] \n",
        "\n",
        "# Sacar las cuentas de cada columna\n",
        "#_ = [print(f'{ordinal}\\n{casas[ordinal].value_counts(dropna = False).sort_index()}') for ordinal in ordinales]\n",
        "\n",
        "# Sacar los valores y verificar el orden\n",
        "_ = [print(f'{ordinal}\\n{casas[ordinal].value_counts(dropna = False).sort_index().index.values}') for ordinal in ordinales]\n",
        "\n",
        "\n",
        " "
      ],
      "execution_count": 14,
      "outputs": [
        {
          "output_type": "stream",
          "text": [
            "OverallQual\n",
            "[ 1  2  3  4  5  6  7  8  9 10]\n",
            "OverallCond\n",
            "[1 2 3 4 5 6 7 8 9]\n",
            "ExterQual\n",
            "['Ex' 'Fa' 'Gd' 'TA']\n",
            "ExterCond\n",
            "['Ex' 'Fa' 'Gd' 'Po' 'TA']\n",
            "BsmtQual\n",
            "['Ex' 'Fa' 'Gd' 'TA' nan]\n",
            "BsmtCond\n",
            "['Fa' 'Gd' 'Po' 'TA' nan]\n",
            "BsmtExposure\n",
            "['Av' 'Gd' 'Mn' 'No' nan]\n",
            "HeatingQC\n",
            "['Ex' 'Fa' 'Gd' 'Po' 'TA']\n",
            "KitchenQual\n",
            "['Ex' 'Fa' 'Gd' 'TA']\n",
            "Functional\n",
            "['Maj1' 'Maj2' 'Min1' 'Min2' 'Mod' 'Sev' 'Typ']\n",
            "FireplaceQu\n",
            "['Ex' 'Fa' 'Gd' 'Po' 'TA' nan]\n",
            "PoolQC\n",
            "['Ex' 'Fa' 'Gd' nan]\n",
            "GarageFinish\n",
            "['Fin' 'RFn' 'Unf' nan]\n",
            "GarageCond\n",
            "['Ex' 'Fa' 'Gd' 'Po' 'TA' nan]\n",
            "Fence\n",
            "['GdPrv' 'GdWo' 'MnPrv' 'MnWw' nan]\n"
          ],
          "name": "stdout"
        }
      ]
    },
    {
      "cell_type": "code",
      "metadata": {
        "id": "bDttqCOm1FEC",
        "colab_type": "code",
        "outputId": "8ea10b4b-7a69-48a2-e9bb-5ddd33f35c7f",
        "colab": {
          "base_uri": "https://localhost:8080/",
          "height": 130
        }
      },
      "source": [
        "{\n",
        "  \"ExterQual\"    : ['Ex' 'Fa' 'Gd' 'TA'],\n",
        "  \"ExterCond\"    : ['Ex' 'Fa' 'Gd' 'Po' 'TA'],\n",
        "  \"BsmtQual\"     : ['Ex' 'Fa' 'Gd' 'TA' nan],\n",
        "  \"BsmtCond\"     : ['Fa' 'Gd' 'Po' 'TA' nan],\n",
        "  \"BsmtExposure\" : ['Av' 'Gd' 'Mn' 'No' nan],\n",
        "  \"HeatingQC\"    : ['Ex' 'Fa' 'Gd' 'Po' 'TA'],\n",
        "  \"KitchenQual\"  : ['Ex' 'Fa' 'Gd' 'TA'],\n",
        "  \"Functional\"   : ['Maj1' 'Maj2' 'Min1' 'Min2' 'Mod' 'Sev' 'Typ'],\n",
        "  \"FireplaceQu\"  : ['Ex' 'Fa' 'Gd' 'Po' 'TA' nan],\n",
        "  \"PoolQC\"       : ['Ex' 'Fa' 'Gd' nan],\n",
        "  \"GarageFinish\" : ['Fin' 'RFn' 'Unf' nan],\n",
        "  \"GarageCond\"   : ['Ex' 'Fa' 'Gd' 'Po' 'TA' nan],\n",
        "  \"Fence\"        : ['GdPrv' 'GdWo' 'MnPrv' 'MnWw' nan]\n",
        "}"
      ],
      "execution_count": 15,
      "outputs": [
        {
          "output_type": "error",
          "ename": "SyntaxError",
          "evalue": "ignored",
          "traceback": [
            "\u001b[0;36m  File \u001b[0;32m\"<ipython-input-15-a309712f08ba>\"\u001b[0;36m, line \u001b[0;32m4\u001b[0m\n\u001b[0;31m    \"BsmtQual\"     : ['Ex' 'Fa' 'Gd' 'TA' nan],\u001b[0m\n\u001b[0m                                            ^\u001b[0m\n\u001b[0;31mSyntaxError\u001b[0m\u001b[0;31m:\u001b[0m invalid syntax\n"
          ]
        }
      ]
    },
    {
      "cell_type": "code",
      "metadata": {
        "id": "s8dM-oGvVt3K",
        "colab_type": "code",
        "colab": {}
      },
      "source": [
        "ordinales = [\"OverallQual\",  \"OverallCond\", \"ExterQual\",                  \n",
        "             #\"BsmtQual\",    \"BsmtCond\", \"BsmtExposure\", \n",
        "             #\"GarageFinish\", \"GarageCond\",  \"PoolQC\",\n",
        "             #\"FireplaceQu\", \"Fence\", \"ExterCond\"\n",
        "            \"HeatingQC\",   \"KitchenQual\", \"Functional\"] "
      ],
      "execution_count": 0,
      "outputs": []
    },
    {
      "cell_type": "markdown",
      "metadata": {
        "id": "WXyEiBI_10qp",
        "colab_type": "text"
      },
      "source": [
        "#### Fechas\n",
        "- `YearBuilt`\n",
        "- `YearRemodAdd`\n",
        "- `GarageYrBlt`\n",
        "- `MoSold`\n",
        "- `YrSold`"
      ]
    },
    {
      "cell_type": "code",
      "metadata": {
        "id": "XTUJoqvqva0f",
        "colab_type": "code",
        "colab": {
          "base_uri": "https://localhost:8080/",
          "height": 300
        },
        "outputId": "41fc6c1e-26e4-486d-bb62-f38d604886a5"
      },
      "source": [
        "\n",
        "basement = casas[[\"BsmtFinSF1\", \"BsmtFinSF2\", \"BsmtUnfSF\", \"TotalBsmtSF\"]].copy()\n",
        "basement[\"BSMT12\"] = basement[\"BsmtFinSF1\"] + basement[\"BsmtFinSF2\"] + basement[\"BsmtUnfSF\"]\n",
        "sns.scatterplot(x=\"BSMT12\", y=\"TotalBsmtSF\", data=basement) # TODO: agregar caption con la conclusion"
      ],
      "execution_count": 24,
      "outputs": [
        {
          "output_type": "execute_result",
          "data": {
            "text/plain": [
              "<matplotlib.axes._subplots.AxesSubplot at 0x7ff8dc2c82b0>"
            ]
          },
          "metadata": {
            "tags": []
          },
          "execution_count": 24
        },
        {
          "output_type": "display_data",
          "data": {
            "image/png": "[encoded data removed]",
            "text/plain": [
              "<Figure size 432x288 with 1 Axes>"
            ]
          },
          "metadata": {
            "tags": []
          }
        }
      ]
    },
    {
      "cell_type": "markdown",
      "metadata": {
        "id": "zFsQ0ixkf-bO",
        "colab_type": "text"
      },
      "source": [
        "## Variable Objetivo\n",
        "\n",
        "La variable objetivo `SalesPrice` tiene una distribución asimétrica, con la cola larga a la derecha. La casa más barata salió \\$ 34.900 y la más cara \\$755.000"
      ]
    },
    {
      "cell_type": "markdown",
      "metadata": {
        "id": "ifKjXqptez8e",
        "colab_type": "text"
      },
      "source": [
        "### Estadísticos Descriptivos"
      ]
    },
    {
      "cell_type": "code",
      "metadata": {
        "id": "HR_IFN6qGDoL",
        "colab_type": "code",
        "colab": {}
      },
      "source": [
        "casas[[\"SalePrice\"]].describe()"
      ],
      "execution_count": 0,
      "outputs": []
    },
    {
      "cell_type": "markdown",
      "metadata": {
        "id": "L--Q6N6YexdD",
        "colab_type": "text"
      },
      "source": [
        "###  Normalidad\n",
        "\n"
      ]
    },
    {
      "cell_type": "markdown",
      "metadata": {
        "id": "ITGm31Bqe5CO",
        "colab_type": "text"
      },
      "source": [
        "### Correlación con columnas de X\n",
        "\n",
        "La correlación de las columnas nos da una pista de por donde vale la pena empezar a trabajar. La variable más importante parece ser OverallQual."
      ]
    },
    {
      "cell_type": "code",
      "metadata": {
        "id": "iC33p6_4MxNJ",
        "colab_type": "code",
        "colab": {}
      },
      "source": [
        "# Correlaciones con SalePrice\n",
        "corr_sales_price = casas.corr()[\"SalePrice\"]\n",
        "\n",
        "# Solo las mayores que 0.63 ordenadas descendiendo\n",
        "corrs_altas = corr_sales_price[corr_sales_price > 0.3].sort_values(ascending = False)\n",
        "print(corrs_altas)\n"
      ],
      "execution_count": 0,
      "outputs": []
    },
    {
      "cell_type": "markdown",
      "metadata": {
        "id": "xTGWHdUWe29O",
        "colab_type": "text"
      },
      "source": [
        "### Outliers"
      ]
    },
    {
      "cell_type": "code",
      "metadata": {
        "id": "chNnOIjyYuIV",
        "colab_type": "code",
        "outputId": "43cf59e3-3343-47e9-b052-8f4240282614",
        "colab": {
          "base_uri": "https://localhost:8080/",
          "height": 300
        }
      },
      "source": [
        "\n",
        "# sns.pairplot(casas[[\"OverallQual\", \"OverallCond\", \"SalePrice\", \"GrLivArea\"]])\n",
        "# De este gráfico se ven dos outliers en la relación SalePrice vs GrLivArea\n",
        "\n",
        "casas[\"outlier\"] = np.logical_and(casas[\"GrLivArea\"] > 4000, \n",
        "                                  casas[\"SalePrice\"] < 300000)\n",
        "\n",
        "sns.scatterplot(x=\"GrLivArea\", y=\"SalePrice\", hue=\"outlier\", data=casas)\n",
        "\n"
      ],
      "execution_count": 25,
      "outputs": [
        {
          "output_type": "execute_result",
          "data": {
            "text/plain": [
              "<matplotlib.axes._subplots.AxesSubplot at 0x7ff8dc652208>"
            ]
          },
          "metadata": {
            "tags": []
          },
          "execution_count": 25
        },
        {
          "output_type": "display_data",
          "data": {
            "image/png": "[encoded data removed]",
            "text/plain": [
              "<Figure size 432x288 with 1 Axes>"
            ]
          },
          "metadata": {
            "tags": []
          }
        }
      ]
    },
    {
      "cell_type": "markdown",
      "metadata": {
        "id": "3QpQSxYdTKfh",
        "colab_type": "text"
      },
      "source": [
        "- `OverallCond` tiene correlación negativa (-0.077856) con `SalePrice` \n",
        "- 2 outliers entre `GrLivingArea` y `SalePrice`\n",
        "- La relación entre `GrLivingArea` y `SalePrice` tiene forma de cono\n",
        "- Varias de la features continuas tienen skew."
      ]
    },
    {
      "cell_type": "markdown",
      "metadata": {
        "id": "iYl9jrY5geZG",
        "colab_type": "text"
      },
      "source": [
        "## Otras columnas de X\n",
        "\n",
        "TODO: ¿cuáles son?\n"
      ]
    },
    {
      "cell_type": "code",
      "metadata": {
        "id": "Eau_PTaJLFFF",
        "colab_type": "code",
        "colab": {}
      },
      "source": [
        "# https://seaborn.pydata.org/examples/many_pairwise_correlations.html\n",
        "# https://seaborn.pydata.org/generated/seaborn.pairplot.html\n",
        "# https://stackoverflow.com/questions/39409866/correlation-heatmap\n",
        "# https://towardsdatascience.com/better-heatmaps-and-correlation-matrix-plots-in-python-41445d0f2bec"
      ],
      "execution_count": 0,
      "outputs": []
    },
    {
      "cell_type": "markdown",
      "metadata": {
        "id": "YSwDloj-gH91",
        "colab_type": "text"
      },
      "source": [
        "## Conclusiones\n",
        "\n",
        "- Normalizar `SalesPrice`\n",
        "- Marcar Outliers\n",
        "- Principales variables a tener en cuenta para el modelo\n",
        "  - Visualización y descriptivos (¿Ceros?) POR LO MENOS PARA LAS IMPORTANTES\n",
        "- Codificar las binarias y las categóricas\n",
        "- Escalar las continuas"
      ]
    },
    {
      "cell_type": "markdown",
      "metadata": {
        "id": "6sq-aMGPXfxY",
        "colab_type": "text"
      },
      "source": [
        "# <a name=\"preprocesamiento\">Preprocesamiento</a>"
      ]
    },
    {
      "cell_type": "markdown",
      "metadata": {
        "id": "2isb0-0SeSgW",
        "colab_type": "text"
      },
      "source": [
        "En esta sección implementamos los cambios sugeridos en la sección anterior para dejar los datos listos para los modelos. Usamos una custom `Pipeline` para cada paso en el preprocesamiento. \n",
        "\n"
      ]
    },
    {
      "cell_type": "markdown",
      "metadata": {
        "id": "tSRqP1ZLa9QS",
        "colab_type": "text"
      },
      "source": [
        "### Imputar datos faltantes"
      ]
    },
    {
      "cell_type": "markdown",
      "metadata": {
        "id": "NtOIPXhGbOuv",
        "colab_type": "text"
      },
      "source": [
        "### Codificar variables Categóricas\n",
        "\n",
        "\n"
      ]
    },
    {
      "cell_type": "markdown",
      "metadata": {
        "id": "wY07VkmLOWti",
        "colab_type": "text"
      },
      "source": [
        "### Limpiar las fechas"
      ]
    },
    {
      "cell_type": "markdown",
      "metadata": {
        "id": "zQt1L-7-dXOH",
        "colab_type": "text"
      },
      "source": [
        "### Normalizar y/o Escalar variables numéricas\n",
        "\n",
        "TODO"
      ]
    },
    {
      "cell_type": "markdown",
      "metadata": {
        "id": "6mZ4h6T-v6zK",
        "colab_type": "text"
      },
      "source": [
        "## Agregar Variables al cuadrado"
      ]
    },
    {
      "cell_type": "markdown",
      "metadata": {
        "id": "iXH_0IQ9ic1W",
        "colab_type": "text"
      },
      "source": [
        "# <a name=\"modelos\">Modelos</a>"
      ]
    },
    {
      "cell_type": "markdown",
      "metadata": {
        "id": "0gqrzAYU8Bmu",
        "colab_type": "text"
      },
      "source": [
        "Split para validar"
      ]
    },
    {
      "cell_type": "code",
      "metadata": {
        "id": "wlChW-1lLNB2",
        "colab_type": "code",
        "colab": {}
      },
      "source": [
        "\n",
        "\n",
        "\n",
        "\n",
        "\n",
        "transform_categoricas = Pipeline(steps=[\n",
        "    # Imputar faltantes\n",
        "    ('onehot', OneHotEncoder(handle_unknown=\"ignore\"))  # TODO investigar handle_unknown y drop='first'\n",
        "                                                        # ignore le pone todo 0 a las que tienen missing\n",
        "])\n",
        "\n",
        "transform_continuas = Pipeline(steps = [\n",
        "    # Imputar faltantes continuas con la MODA/0\n",
        "    # Normalizar\n",
        "    ('scale', StandardScaler())\n",
        "])\n",
        "\n",
        "transform_ordinales = Pipeline(steps = [\n",
        "   ('ord', OrdinalEncoder())\n",
        "])\n",
        "\n",
        "\n",
        "# TODO: Linkear ejemplo en docs\n",
        "\n",
        "# ColumnTransformer aplica las pipelines en paralelo y concatena las columnas resultantes\n",
        "preprocesador = ColumnTransformer(\n",
        "  transformers=[\n",
        "      ('cat', transform_categoricas, categoricas),\n",
        "      ('num', transform_continuas, continuas),\n",
        "      ('ord', transform_ordinales, ordinales),\n",
        "      ('cnts', 'passthrough', cuentas )\n",
        "  ]\n",
        ")\n",
        "\n",
        "# Transform Target\n",
        "# https://scikit-learn.org/stable/auto_examples/compose/plot_transformed_target.html#sphx-glr-auto-examples-compose-plot-transformed-target-py\n",
        "\n",
        "\n",
        "# Preprocesar + modelo\n",
        "clf = Pipeline(steps = [\n",
        "    # Remove outliers\n",
        "    ('preprocess', preprocesador),\n",
        "    # Polynomial Features\n",
        "    ('modelo', LinearRegression())\n",
        "])\n",
        "\n",
        "\n"
      ],
      "execution_count": 0,
      "outputs": []
    },
    {
      "cell_type": "code",
      "metadata": {
        "id": "B7Si0h-Ih8aD",
        "colab_type": "code",
        "outputId": "d761a1ee-28c7-4354-bd18-9876c7568e7d",
        "colab": {
          "base_uri": "https://localhost:8080/",
          "height": 34
        }
      },
      "source": [
        "# Extraer X e y como arrays\n",
        "X = casas[categoricas + continuas  + ordinales + cuentas]\n",
        "y = casas[\"SalePrice\"]\n",
        "\n",
        "# Splitearlos\n",
        "X_train, X_test, y_train, y_test = train_test_split(X, y, random_state = 42)\n",
        "\n",
        "# Fit pipeline\n",
        "clf.fit(X_train, y_train)\n",
        "\n",
        "# Score\n",
        "clf.score(X_test, y_test)"
      ],
      "execution_count": 27,
      "outputs": [
        {
          "output_type": "execute_result",
          "data": {
            "text/plain": [
              "0.8815467223036825"
            ]
          },
          "metadata": {
            "tags": []
          },
          "execution_count": 27
        }
      ]
    },
    {
      "cell_type": "markdown",
      "metadata": {
        "id": "LRdS8wJsMBxS",
        "colab_type": "text"
      },
      "source": [
        "### Modelo Línea de Base\n",
        "\n"
      ]
    },
    {
      "cell_type": "code",
      "metadata": {
        "id": "3iypzaR2MHGr",
        "colab_type": "code",
        "colab": {}
      },
      "source": [
        "# Elegimos un modelo lineal sin regularización\n",
        "lin_reg = LinearRegression()\n",
        "\n",
        "# Lo entrenamos con los datos de train\n",
        "lin_reg.fit(X_train, y_train)\n",
        "\n",
        "# Predecimos con datos limpios\n",
        "y_pred = lin_reg.predict(X_test)\n",
        "\n",
        "# Evaluamos la métrica\n",
        "print(f'MSE: {mean_squared_error(y_true = y_test, y_pred = y_pred):.4f}') # Formatear numero con 4 dígitos dps de la ,\n",
        "print(f'R2: {r2_score(y_true = y_test, y_pred = y_pred):.4f}') # Formatear numero con 4 dígitos dps de la ,\n",
        "\n",
        "# Probar:\n",
        "# Sacar outliers\n",
        "# Polynomial Features\n",
        "\n",
        "\n"
      ],
      "execution_count": 0,
      "outputs": []
    },
    {
      "cell_type": "markdown",
      "metadata": {
        "id": "M3keqMBci513",
        "colab_type": "text"
      },
      "source": [
        "## LASSO"
      ]
    },
    {
      "cell_type": "markdown",
      "metadata": {
        "id": "qhWeR4ooi88t",
        "colab_type": "text"
      },
      "source": [
        "## Ridge"
      ]
    },
    {
      "cell_type": "markdown",
      "metadata": {
        "id": "fFuI-tiDi_Om",
        "colab_type": "text"
      },
      "source": [
        "## Elastic Net"
      ]
    },
    {
      "cell_type": "markdown",
      "metadata": {
        "id": "MzgRdREifaBe",
        "colab_type": "text"
      },
      "source": [
        "# <a name=\"validacion\">Validación</a>\n",
        "\n"
      ]
    },
    {
      "cell_type": "markdown",
      "metadata": {
        "id": "l7cJIIvWiS3g",
        "colab_type": "text"
      },
      "source": [
        "## Cross Validation"
      ]
    },
    {
      "cell_type": "markdown",
      "metadata": {
        "id": "IL3CEXR6yp_k",
        "colab_type": "text"
      },
      "source": [
        "## Feature Selection"
      ]
    },
    {
      "cell_type": "markdown",
      "metadata": {
        "id": "_KBda0uviXHN",
        "colab_type": "text"
      },
      "source": [
        "## Error Analysis\n",
        "\n",
        "Normalidad de los errores."
      ]
    },
    {
      "cell_type": "markdown",
      "metadata": {
        "id": "aKu3kNOSfh8t",
        "colab_type": "text"
      },
      "source": [
        "# <a name=\"conclusiones\">Conclusiones</a>\n",
        "\n",
        "Lasso funciona bien porque hay muchas columnas correlacionadas."
      ]
    }
  ]
}